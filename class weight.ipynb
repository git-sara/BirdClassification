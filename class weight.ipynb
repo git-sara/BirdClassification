{
 "cells": [
  {
   "cell_type": "code",
   "execution_count": 13,
   "id": "0499919a",
   "metadata": {},
   "outputs": [
    {
     "name": "stderr",
     "output_type": "stream",
     "text": [
      "C:\\Users\\Asus\\AppData\\Local\\Programs\\Python\\Python39\\lib\\site-packages\\sklearn\\model_selection\\_split.py:680: UserWarning: The least populated class in y has only 7 members, which is less than n_splits=10.\n",
      "  warnings.warn(\n"
     ]
    },
    {
     "name": "stdout",
     "output_type": "stream",
     "text": [
      "Best Score: 0.9089247311827957 \n",
      "Best Params: {'n_estimators': 100}\n",
      "Test Accuracy: 0.917\n"
     ]
    }
   ],
   "source": [
    "#classification of imbalanced data using weights\n",
    "import numpy as np\n",
    "import pandas as pd\n",
    "import matplotlib.pyplot as plt\n",
    "import seaborn as sns\n",
    "from sklearn.preprocessing import StandardScaler\n",
    "from sklearn.svm import LinearSVC\n",
    "from sklearn.pipeline import Pipeline\n",
    "from sklearn.model_selection import cross_val_score\n",
    "from imblearn.over_sampling import SMOTE\n",
    "from sklearn.linear_model import LogisticRegression\n",
    "from sklearn.metrics import accuracy_score,precision_score,confusion_matrix,classification_report, precision_recall_curve\n",
    "from sklearn.neighbors import KNeighborsClassifier\n",
    "from sklearn.svm import SVC\n",
    "from sklearn.ensemble import RandomForestClassifier, AdaBoostClassifier\n",
    "from sklearn.model_selection import train_test_split\n",
    "from sklearn.model_selection import GridSearchCV, StratifiedKFold\n",
    "from sklearn.pipeline import Pipeline\n",
    "\n",
    "bird=pd.read_excel('C:\\\\Users\\\\Asus\\\\Desktop\\\\data sets\\\\bird2.xlsx')\n",
    "#bird.head()\n",
    "#sns.relplot(x=\"WingSpanRange\", y=\"ConservationStatus\", data=bird, height=5, aspect=.5)\n",
    "#bird_train['ConservationStatus'].value_counts().plot.barh()#So imbalanced\n",
    "bird=bird.drop(['MinLength','MaxLength','MinBodyMass','MaxBodyMass','MinWingspan','MaxWingspan'],axis=1)\n",
    "bird.head()\n",
    "X=bird.drop(['ConservationStatus'],axis=1)\n",
    "y=bird['ConservationStatus']\n",
    "\n",
    "X_train, X_test, y_train, y_test = train_test_split(X, y, test_size=0.3, random_state=1, stratify=y)\n",
    "sc=StandardScaler()\n",
    "X_train_scaled=sc.fit_transform(X_train)\n",
    "X_test_scaled=sc.transform(X_test)\n",
    "\n",
    "\n",
    "\n",
    "rf=RandomForestClassifier(n_estimators=100,  class_weight={'LC':0.91, 'NT':0.06, 'VU':0.03})\n",
    "rs = GridSearchCV(rf, cv = 10, scoring = 'accuracy', refit = True,param_grid=parameters, n_jobs = 1)\n",
    "rs.fit(X_train_scaled, y_train)\n",
    "print('Best Score:', rs.best_score_, '\\nBest Params:', rs.best_params_)\n",
    "print('Test Accuracy: %0.3f' % rs.score(X_test_scaled, y_test))\n",
    "\n",
    "\n",
    "\n",
    "\n",
    "\n",
    "\n"
   ]
  },
  {
   "cell_type": "code",
   "execution_count": null,
   "id": "a7deb14e",
   "metadata": {},
   "outputs": [],
   "source": []
  }
 ],
 "metadata": {
  "kernelspec": {
   "display_name": "Python 3 (ipykernel)",
   "language": "python",
   "name": "python3"
  },
  "language_info": {
   "codemirror_mode": {
    "name": "ipython",
    "version": 3
   },
   "file_extension": ".py",
   "mimetype": "text/x-python",
   "name": "python",
   "nbconvert_exporter": "python",
   "pygments_lexer": "ipython3",
   "version": "3.9.7"
  }
 },
 "nbformat": 4,
 "nbformat_minor": 5
}
